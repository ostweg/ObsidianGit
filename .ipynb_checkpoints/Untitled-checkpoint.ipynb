{
 "cells": [
  {
   "cell_type": "code",
   "execution_count": 15,
   "id": "8e9a94a6",
   "metadata": {},
   "outputs": [],
   "source": [
    "import torch\n",
    "import numpy as np"
   ]
  },
  {
   "cell_type": "code",
   "execution_count": 9,
   "id": "ae814508",
   "metadata": {},
   "outputs": [
    {
     "data": {
      "text/plain": [
       "tensor([[[0.2701, 0.7471, 0.7395, 0.3354],\n",
       "         [0.3700, 0.3383, 0.1065, 0.4035],\n",
       "         [0.6259, 0.5047, 0.2040, 0.5800]],\n",
       "\n",
       "        [[0.7228, 0.7177, 0.7181, 0.4524],\n",
       "         [0.8169, 0.4567, 0.1458, 0.3158],\n",
       "         [0.7002, 0.8292, 0.4493, 0.4394]],\n",
       "\n",
       "        [[0.6005, 0.0052, 0.9519, 0.4871],\n",
       "         [0.2024, 0.7427, 0.1595, 0.8736],\n",
       "         [0.6433, 0.5011, 0.4611, 0.0905]]])"
      ]
     },
     "execution_count": 9,
     "metadata": {},
     "output_type": "execute_result"
    }
   ],
   "source": [
    "torch.rand(3,3,4)"
   ]
  },
  {
   "cell_type": "code",
   "execution_count": 16,
   "id": "2007ba29",
   "metadata": {},
   "outputs": [
    {
     "data": {
      "text/plain": [
       "torch.Size([2, 3])"
      ]
     },
     "execution_count": 16,
     "metadata": {},
     "output_type": "execute_result"
    }
   ],
   "source": [
    "x = torch.Tensor([[1,2,3],[3,5,7]])"
   ]
  },
  {
   "cell_type": "code",
   "execution_count": 19,
   "id": "b9c6cb17",
   "metadata": {},
   "outputs": [],
   "source": [
    "x = np.array([[1,5,7],[7,3,7]])"
   ]
  },
  {
   "cell_type": "code",
   "execution_count": 21,
   "id": "a7e409cc",
   "metadata": {},
   "outputs": [
    {
     "data": {
      "text/plain": [
       "tensor([[1., 5., 7.],\n",
       "        [7., 3., 7.]])"
      ]
     },
     "execution_count": 21,
     "metadata": {},
     "output_type": "execute_result"
    }
   ],
   "source": [
    "torch.Tensor(x)"
   ]
  },
  {
   "cell_type": "code",
   "execution_count": null,
   "id": "5f923527",
   "metadata": {},
   "outputs": [],
   "source": []
  },
  {
   "cell_type": "code",
   "execution_count": null,
   "id": "a5243a37",
   "metadata": {},
   "outputs": [],
   "source": []
  },
  {
   "cell_type": "code",
   "execution_count": null,
   "id": "78e99ea9",
   "metadata": {},
   "outputs": [],
   "source": []
  },
  {
   "cell_type": "code",
   "execution_count": null,
   "id": "b1b24b85",
   "metadata": {},
   "outputs": [],
   "source": []
  }
 ],
 "metadata": {
  "kernelspec": {
   "display_name": "Python 3 (ipykernel)",
   "language": "python",
   "name": "python3"
  },
  "language_info": {
   "codemirror_mode": {
    "name": "ipython",
    "version": 3
   },
   "file_extension": ".py",
   "mimetype": "text/x-python",
   "name": "python",
   "nbconvert_exporter": "python",
   "pygments_lexer": "ipython3",
   "version": "3.10.1"
  }
 },
 "nbformat": 4,
 "nbformat_minor": 5
}
